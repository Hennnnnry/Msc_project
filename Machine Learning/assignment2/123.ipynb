{
 "cells": [
  {
   "cell_type": "code",
   "execution_count": 125,
   "id": "3c59a0cb",
   "metadata": {},
   "outputs": [],
   "source": [
    "from sklearn.model_selection import KFold\n",
    "from sklearn.svm import SVC\n",
    "from sklearn.metrics import accuracy_score\n",
    "import numpy as np\n",
    "from collections import Counter\n",
    "from sklearn.datasets import make_classification\n",
    "from imblearn.over_sampling import BorderlineSMOTE\n",
    "from data_process import deal_data\n",
    "import pandas as pd\n",
    "from imblearn.over_sampling import ADASYN"
   ]
  },
  {
   "cell_type": "code",
   "execution_count": 126,
   "id": "a269fee3",
   "metadata": {},
   "outputs": [
    {
     "name": "stdout",
     "output_type": "stream",
     "text": [
      "(395, 117)\n"
     ]
    }
   ],
   "source": [
    "bc = deal_data()\n",
    "X = bc.drop(['pCR (outcome)', 'RelapseFreeSurvival (outcome)', 'ID'], axis=1)\n",
    "y = bc['pCR (outcome)']\n",
    "print(X.shape)"
   ]
  },
  {
   "cell_type": "code",
   "execution_count": 129,
   "id": "adc55f9e",
   "metadata": {
    "scrolled": false
   },
   "outputs": [
    {
     "name": "stdout",
     "output_type": "stream",
     "text": [
      "Original dataset shape Counter({0: 299, 1: 96})\n",
      "Resampled dataset shape Counter({1: 299, 0: 299})\n"
     ]
    }
   ],
   "source": [
    "print('Original dataset shape %s' % Counter(y))\n",
    "sm = BorderlineSMOTE(random_state=1,kind=\"borderline-1\")\n",
    "new_X, new_y = sm.fit_resample(X, y)\n",
    "print('Resampled dataset shape %s' % Counter(new_y))"
   ]
  },
  {
   "cell_type": "code",
   "execution_count": 130,
   "id": "7f25156f",
   "metadata": {},
   "outputs": [],
   "source": [
    "kf = KFold(n_splits=5, shuffle=True, random_state=10)\n",
    "train_predict_score = []\n",
    "test_predict_score = []\n",
    "for train_index, test_index in kf.split(new_X, new_y):\n",
    "    each_x_train, each_x_test = new_X.take(train_index, axis=0), new_X.take(test_index, axis=0)\n",
    "    each_y_train, each_y_test = new_y.take(train_index, axis=0), new_y.take(test_index, axis=0)\n",
    "    mlp = MLPClassifier(hidden_layer_sizes=(10, 10), activation='logistic', solver='sgd', learning_rate_init=0.1, max_iter=1000)\n",
    "    mlp.fit(each_x_train, each_y_train)\n",
    "    each_y_train_predict = mlp.predict(each_x_train)\n",
    "    each_y_test_predict = mlp.predict(each_x_test)\n",
    "    train_predict_score.append(accuracy_score(each_y_train, each_y_train_predict))\n",
    "    test_predict_score.append(accuracy_score(each_y_test, each_y_test_predict))"
   ]
  },
  {
   "cell_type": "code",
   "execution_count": 131,
   "id": "3b621ba8",
   "metadata": {},
   "outputs": [
    {
     "name": "stdout",
     "output_type": "stream",
     "text": [
      "train score: 0.5016727666599697\n",
      "test score: 0.505\n"
     ]
    }
   ],
   "source": [
    "print('train score:', np.mean(train_predict_score))\n",
    "print('test score:', np.mean(test_predict_score))"
   ]
  },
  {
   "cell_type": "code",
   "execution_count": null,
   "id": "3dced697",
   "metadata": {},
   "outputs": [],
   "source": []
  }
 ],
 "metadata": {
  "kernelspec": {
   "display_name": "Python 3 (ipykernel)",
   "language": "python",
   "name": "python3"
  },
  "language_info": {
   "codemirror_mode": {
    "name": "ipython",
    "version": 3
   },
   "file_extension": ".py",
   "mimetype": "text/x-python",
   "name": "python",
   "nbconvert_exporter": "python",
   "pygments_lexer": "ipython3",
   "version": "3.7.13"
  }
 },
 "nbformat": 4,
 "nbformat_minor": 5
}
